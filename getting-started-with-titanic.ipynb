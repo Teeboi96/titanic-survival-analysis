{
 "cells": [
  {
   "cell_type": "code",
   "execution_count": 1,
   "id": "013a2dd1",
   "metadata": {
    "_cell_guid": "b1076dfc-b9ad-4769-8c92-a6c4dae69d19",
    "_uuid": "8f2839f25d086af736a60e9eeb907d3b93b6e0e5",
    "execution": {
     "iopub.execute_input": "2025-10-20T13:53:17.739601Z",
     "iopub.status.busy": "2025-10-20T13:53:17.739174Z",
     "iopub.status.idle": "2025-10-20T13:53:22.619830Z",
     "shell.execute_reply": "2025-10-20T13:53:22.618836Z"
    },
    "papermill": {
     "duration": 4.891517,
     "end_time": "2025-10-20T13:53:22.621505",
     "exception": false,
     "start_time": "2025-10-20T13:53:17.729988",
     "status": "completed"
    },
    "tags": []
   },
   "outputs": [
    {
     "name": "stdout",
     "output_type": "stream",
     "text": [
      "/kaggle/input/titanic/train.csv\n",
      "/kaggle/input/titanic/test.csv\n",
      "/kaggle/input/titanic/gender_submission.csv\n"
     ]
    }
   ],
   "source": [
    "# This Python 3 environment comes with many helpful analytics libraries installed\n",
    "# It is defined by the kaggle/python Docker image: https://github.com/kaggle/docker-python\n",
    "# For example, here's several helpful packages to load\n",
    "\n",
    "import numpy as np # linear algebra\n",
    "import pandas as pd # data processing, CSV file I/O (e.g. pd.read_csv)\n",
    "import matplotlib.pyplot as plt\n",
    "import seaborn as sns\n",
    "from sklearn.model_selection import train_test_split\n",
    "from sklearn.linear_model import LogisticRegression\n",
    "from sklearn.metrics import accuracy_score, confusion_matrix\n",
    "\n",
    "# Input data files are available in the read-only \"../input/\" directory\n",
    "# For example, running this (by clicking run or pressing Shift+Enter) will list all files under the input directory\n",
    "\n",
    "import os\n",
    "for dirname, _, filenames in os.walk('/kaggle/input'):\n",
    "    for filename in filenames:\n",
    "        print(os.path.join(dirname, filename))\n",
    "\n",
    "\n",
    "\n",
    "# You can write up to 20GB to the current directory (/kaggle/working/) that gets preserved as output when you create a version using \"Save & Run All\" \n",
    "# You can also write temporary files to /kaggle/temp/, but they won't be saved outside of the current session"
   ]
  },
  {
   "cell_type": "code",
   "execution_count": 2,
   "id": "bd5df476",
   "metadata": {
    "execution": {
     "iopub.execute_input": "2025-10-20T13:53:22.637596Z",
     "iopub.status.busy": "2025-10-20T13:53:22.636651Z",
     "iopub.status.idle": "2025-10-20T13:53:22.666360Z",
     "shell.execute_reply": "2025-10-20T13:53:22.665455Z"
    },
    "papermill": {
     "duration": 0.039166,
     "end_time": "2025-10-20T13:53:22.668157",
     "exception": false,
     "start_time": "2025-10-20T13:53:22.628991",
     "status": "completed"
    },
    "tags": []
   },
   "outputs": [],
   "source": [
    "train = pd.read_csv(\"/kaggle/input/titanic/train.csv\")\n",
    "test = pd.read_csv(\"/kaggle/input/titanic/test.csv\")"
   ]
  },
  {
   "cell_type": "code",
   "execution_count": 3,
   "id": "241250f2",
   "metadata": {
    "execution": {
     "iopub.execute_input": "2025-10-20T13:53:22.683046Z",
     "iopub.status.busy": "2025-10-20T13:53:22.682728Z",
     "iopub.status.idle": "2025-10-20T13:53:22.722272Z",
     "shell.execute_reply": "2025-10-20T13:53:22.721254Z"
    },
    "papermill": {
     "duration": 0.048836,
     "end_time": "2025-10-20T13:53:22.723963",
     "exception": false,
     "start_time": "2025-10-20T13:53:22.675127",
     "status": "completed"
    },
    "tags": []
   },
   "outputs": [
    {
     "name": "stdout",
     "output_type": "stream",
     "text": [
      "   PassengerId  Survived  Pclass  \\\n",
      "0            1         0       3   \n",
      "1            2         1       1   \n",
      "2            3         1       3   \n",
      "3            4         1       1   \n",
      "4            5         0       3   \n",
      "\n",
      "                                                Name     Sex   Age  SibSp  \\\n",
      "0                            Braund, Mr. Owen Harris    male  22.0      1   \n",
      "1  Cumings, Mrs. John Bradley (Florence Briggs Th...  female  38.0      1   \n",
      "2                             Heikkinen, Miss. Laina  female  26.0      0   \n",
      "3       Futrelle, Mrs. Jacques Heath (Lily May Peel)  female  35.0      1   \n",
      "4                           Allen, Mr. William Henry    male  35.0      0   \n",
      "\n",
      "   Parch            Ticket     Fare Cabin Embarked  \n",
      "0      0         A/5 21171   7.2500   NaN        S  \n",
      "1      0          PC 17599  71.2833   C85        C  \n",
      "2      0  STON/O2. 3101282   7.9250   NaN        S  \n",
      "3      0            113803  53.1000  C123        S  \n",
      "4      0            373450   8.0500   NaN        S  \n",
      "<class 'pandas.core.frame.DataFrame'>\n",
      "RangeIndex: 891 entries, 0 to 890\n",
      "Data columns (total 12 columns):\n",
      " #   Column       Non-Null Count  Dtype  \n",
      "---  ------       --------------  -----  \n",
      " 0   PassengerId  891 non-null    int64  \n",
      " 1   Survived     891 non-null    int64  \n",
      " 2   Pclass       891 non-null    int64  \n",
      " 3   Name         891 non-null    object \n",
      " 4   Sex          891 non-null    object \n",
      " 5   Age          714 non-null    float64\n",
      " 6   SibSp        891 non-null    int64  \n",
      " 7   Parch        891 non-null    int64  \n",
      " 8   Ticket       891 non-null    object \n",
      " 9   Fare         891 non-null    float64\n",
      " 10  Cabin        204 non-null    object \n",
      " 11  Embarked     889 non-null    object \n",
      "dtypes: float64(2), int64(5), object(5)\n",
      "memory usage: 83.7+ KB\n",
      "None\n",
      "(891, 12)\n"
     ]
    }
   ],
   "source": [
    "#Explore data\n",
    "\n",
    "print(train.head())\n",
    "print(train.info())\n",
    "print(train.shape)"
   ]
  },
  {
   "cell_type": "code",
   "execution_count": 4,
   "id": "465691b2",
   "metadata": {
    "execution": {
     "iopub.execute_input": "2025-10-20T13:53:22.739596Z",
     "iopub.status.busy": "2025-10-20T13:53:22.738702Z",
     "iopub.status.idle": "2025-10-20T13:53:22.747827Z",
     "shell.execute_reply": "2025-10-20T13:53:22.746982Z"
    },
    "papermill": {
     "duration": 0.018304,
     "end_time": "2025-10-20T13:53:22.749169",
     "exception": false,
     "start_time": "2025-10-20T13:53:22.730865",
     "status": "completed"
    },
    "tags": []
   },
   "outputs": [
    {
     "data": {
      "text/plain": [
       "PassengerId      0\n",
       "Survived         0\n",
       "Pclass           0\n",
       "Name             0\n",
       "Sex              0\n",
       "Age            177\n",
       "SibSp            0\n",
       "Parch            0\n",
       "Ticket           0\n",
       "Fare             0\n",
       "Cabin          687\n",
       "Embarked         2\n",
       "dtype: int64"
      ]
     },
     "execution_count": 4,
     "metadata": {},
     "output_type": "execute_result"
    }
   ],
   "source": [
    "#Check for missing values\n",
    "train.isnull().sum()\n"
   ]
  },
  {
   "cell_type": "code",
   "execution_count": 5,
   "id": "f67b73b8",
   "metadata": {
    "execution": {
     "iopub.execute_input": "2025-10-20T13:53:22.764968Z",
     "iopub.status.busy": "2025-10-20T13:53:22.764139Z",
     "iopub.status.idle": "2025-10-20T13:53:22.779471Z",
     "shell.execute_reply": "2025-10-20T13:53:22.778481Z"
    },
    "papermill": {
     "duration": 0.024666,
     "end_time": "2025-10-20T13:53:22.781090",
     "exception": false,
     "start_time": "2025-10-20T13:53:22.756424",
     "status": "completed"
    },
    "tags": []
   },
   "outputs": [
    {
     "data": {
      "text/plain": [
       "PassengerId    0\n",
       "Survived       0\n",
       "Pclass         0\n",
       "Name           0\n",
       "Sex            0\n",
       "Age            0\n",
       "SibSp          0\n",
       "Parch          0\n",
       "Ticket         0\n",
       "Fare           0\n",
       "Embarked       0\n",
       "dtype: int64"
      ]
     },
     "execution_count": 5,
     "metadata": {},
     "output_type": "execute_result"
    }
   ],
   "source": [
    "# Handle missing values safely\n",
    "train['Embarked'] = train['Embarked'].fillna(train['Embarked'].mode()[0])\n",
    "train['Age'] = train['Age'].fillna(train['Age'].median())\n",
    "\n",
    "# Drop 'Cabin' only if it exists\n",
    "train = train.drop(columns=['Cabin'], errors='ignore')\n",
    "\n",
    "# Confirm no missing values remain\n",
    "train.isnull().sum()\n"
   ]
  },
  {
   "cell_type": "code",
   "execution_count": 6,
   "id": "f9a58946",
   "metadata": {
    "execution": {
     "iopub.execute_input": "2025-10-20T13:53:22.797342Z",
     "iopub.status.busy": "2025-10-20T13:53:22.796268Z",
     "iopub.status.idle": "2025-10-20T13:53:22.834723Z",
     "shell.execute_reply": "2025-10-20T13:53:22.833804Z"
    },
    "papermill": {
     "duration": 0.048068,
     "end_time": "2025-10-20T13:53:22.836309",
     "exception": false,
     "start_time": "2025-10-20T13:53:22.788241",
     "status": "completed"
    },
    "tags": []
   },
   "outputs": [
    {
     "data": {
      "text/html": [
       "<div>\n",
       "<style scoped>\n",
       "    .dataframe tbody tr th:only-of-type {\n",
       "        vertical-align: middle;\n",
       "    }\n",
       "\n",
       "    .dataframe tbody tr th {\n",
       "        vertical-align: top;\n",
       "    }\n",
       "\n",
       "    .dataframe thead th {\n",
       "        text-align: right;\n",
       "    }\n",
       "</style>\n",
       "<table border=\"1\" class=\"dataframe\">\n",
       "  <thead>\n",
       "    <tr style=\"text-align: right;\">\n",
       "      <th></th>\n",
       "      <th>PassengerId</th>\n",
       "      <th>Survived</th>\n",
       "      <th>Pclass</th>\n",
       "      <th>Age</th>\n",
       "      <th>SibSp</th>\n",
       "      <th>Parch</th>\n",
       "      <th>Fare</th>\n",
       "    </tr>\n",
       "  </thead>\n",
       "  <tbody>\n",
       "    <tr>\n",
       "      <th>count</th>\n",
       "      <td>891.000000</td>\n",
       "      <td>891.000000</td>\n",
       "      <td>891.000000</td>\n",
       "      <td>891.000000</td>\n",
       "      <td>891.000000</td>\n",
       "      <td>891.000000</td>\n",
       "      <td>891.000000</td>\n",
       "    </tr>\n",
       "    <tr>\n",
       "      <th>mean</th>\n",
       "      <td>446.000000</td>\n",
       "      <td>0.383838</td>\n",
       "      <td>2.308642</td>\n",
       "      <td>29.361582</td>\n",
       "      <td>0.523008</td>\n",
       "      <td>0.381594</td>\n",
       "      <td>32.204208</td>\n",
       "    </tr>\n",
       "    <tr>\n",
       "      <th>std</th>\n",
       "      <td>257.353842</td>\n",
       "      <td>0.486592</td>\n",
       "      <td>0.836071</td>\n",
       "      <td>13.019697</td>\n",
       "      <td>1.102743</td>\n",
       "      <td>0.806057</td>\n",
       "      <td>49.693429</td>\n",
       "    </tr>\n",
       "    <tr>\n",
       "      <th>min</th>\n",
       "      <td>1.000000</td>\n",
       "      <td>0.000000</td>\n",
       "      <td>1.000000</td>\n",
       "      <td>0.420000</td>\n",
       "      <td>0.000000</td>\n",
       "      <td>0.000000</td>\n",
       "      <td>0.000000</td>\n",
       "    </tr>\n",
       "    <tr>\n",
       "      <th>25%</th>\n",
       "      <td>223.500000</td>\n",
       "      <td>0.000000</td>\n",
       "      <td>2.000000</td>\n",
       "      <td>22.000000</td>\n",
       "      <td>0.000000</td>\n",
       "      <td>0.000000</td>\n",
       "      <td>7.910400</td>\n",
       "    </tr>\n",
       "    <tr>\n",
       "      <th>50%</th>\n",
       "      <td>446.000000</td>\n",
       "      <td>0.000000</td>\n",
       "      <td>3.000000</td>\n",
       "      <td>28.000000</td>\n",
       "      <td>0.000000</td>\n",
       "      <td>0.000000</td>\n",
       "      <td>14.454200</td>\n",
       "    </tr>\n",
       "    <tr>\n",
       "      <th>75%</th>\n",
       "      <td>668.500000</td>\n",
       "      <td>1.000000</td>\n",
       "      <td>3.000000</td>\n",
       "      <td>35.000000</td>\n",
       "      <td>1.000000</td>\n",
       "      <td>0.000000</td>\n",
       "      <td>31.000000</td>\n",
       "    </tr>\n",
       "    <tr>\n",
       "      <th>max</th>\n",
       "      <td>891.000000</td>\n",
       "      <td>1.000000</td>\n",
       "      <td>3.000000</td>\n",
       "      <td>80.000000</td>\n",
       "      <td>8.000000</td>\n",
       "      <td>6.000000</td>\n",
       "      <td>512.329200</td>\n",
       "    </tr>\n",
       "  </tbody>\n",
       "</table>\n",
       "</div>"
      ],
      "text/plain": [
       "       PassengerId    Survived      Pclass         Age       SibSp  \\\n",
       "count   891.000000  891.000000  891.000000  891.000000  891.000000   \n",
       "mean    446.000000    0.383838    2.308642   29.361582    0.523008   \n",
       "std     257.353842    0.486592    0.836071   13.019697    1.102743   \n",
       "min       1.000000    0.000000    1.000000    0.420000    0.000000   \n",
       "25%     223.500000    0.000000    2.000000   22.000000    0.000000   \n",
       "50%     446.000000    0.000000    3.000000   28.000000    0.000000   \n",
       "75%     668.500000    1.000000    3.000000   35.000000    1.000000   \n",
       "max     891.000000    1.000000    3.000000   80.000000    8.000000   \n",
       "\n",
       "            Parch        Fare  \n",
       "count  891.000000  891.000000  \n",
       "mean     0.381594   32.204208  \n",
       "std      0.806057   49.693429  \n",
       "min      0.000000    0.000000  \n",
       "25%      0.000000    7.910400  \n",
       "50%      0.000000   14.454200  \n",
       "75%      0.000000   31.000000  \n",
       "max      6.000000  512.329200  "
      ]
     },
     "execution_count": 6,
     "metadata": {},
     "output_type": "execute_result"
    }
   ],
   "source": [
    "#Summarize The Data\n",
    "train.describe()"
   ]
  },
  {
   "cell_type": "code",
   "execution_count": 7,
   "id": "60a8810f",
   "metadata": {
    "execution": {
     "iopub.execute_input": "2025-10-20T13:53:22.852607Z",
     "iopub.status.busy": "2025-10-20T13:53:22.852079Z",
     "iopub.status.idle": "2025-10-20T13:53:22.863428Z",
     "shell.execute_reply": "2025-10-20T13:53:22.862450Z"
    },
    "papermill": {
     "duration": 0.021085,
     "end_time": "2025-10-20T13:53:22.864963",
     "exception": false,
     "start_time": "2025-10-20T13:53:22.843878",
     "status": "completed"
    },
    "tags": []
   },
   "outputs": [
    {
     "data": {
      "text/plain": [
       "Embarked\n",
       "S    646\n",
       "C    168\n",
       "Q     77\n",
       "Name: count, dtype: int64"
      ]
     },
     "execution_count": 7,
     "metadata": {},
     "output_type": "execute_result"
    }
   ],
   "source": [
    "#Check categorical value\n",
    "train['Sex'].value_counts()\n",
    "train['Pclass'].value_counts()\n",
    "train['Embarked'].value_counts()\n"
   ]
  },
  {
   "cell_type": "code",
   "execution_count": 8,
   "id": "d487203b",
   "metadata": {
    "execution": {
     "iopub.execute_input": "2025-10-20T13:53:22.881137Z",
     "iopub.status.busy": "2025-10-20T13:53:22.880810Z",
     "iopub.status.idle": "2025-10-20T13:53:22.888451Z",
     "shell.execute_reply": "2025-10-20T13:53:22.887533Z"
    },
    "papermill": {
     "duration": 0.017265,
     "end_time": "2025-10-20T13:53:22.889905",
     "exception": false,
     "start_time": "2025-10-20T13:53:22.872640",
     "status": "completed"
    },
    "tags": []
   },
   "outputs": [
    {
     "data": {
      "text/plain": [
       "Survived\n",
       "0    0.616162\n",
       "1    0.383838\n",
       "Name: proportion, dtype: float64"
      ]
     },
     "execution_count": 8,
     "metadata": {},
     "output_type": "execute_result"
    }
   ],
   "source": [
    "#Explore target variable\n",
    "train['Survived'].value_counts(normalize=True)\n"
   ]
  },
  {
   "cell_type": "code",
   "execution_count": 9,
   "id": "6feb9ada",
   "metadata": {
    "execution": {
     "iopub.execute_input": "2025-10-20T13:53:22.906356Z",
     "iopub.status.busy": "2025-10-20T13:53:22.905725Z",
     "iopub.status.idle": "2025-10-20T13:53:23.357877Z",
     "shell.execute_reply": "2025-10-20T13:53:23.356927Z"
    },
    "papermill": {
     "duration": 0.461977,
     "end_time": "2025-10-20T13:53:23.359474",
     "exception": false,
     "start_time": "2025-10-20T13:53:22.897497",
     "status": "completed"
    },
    "tags": []
   },
   "outputs": [
    {
     "name": "stderr",
     "output_type": "stream",
     "text": [
      "/usr/local/lib/python3.11/dist-packages/seaborn/_oldcore.py:1119: FutureWarning: use_inf_as_na option is deprecated and will be removed in a future version. Convert inf values to NaN before operating instead.\n",
      "  with pd.option_context('mode.use_inf_as_na', True):\n"
     ]
    },
    {
     "data": {
      "image/png": "[encoded data removed]",
      "text/plain": [
       "<Figure size 640x480 with 1 Axes>"
      ]
     },
     "metadata": {},
     "output_type": "display_data"
    }
   ],
   "source": [
    "#Explore key relationships\n",
    "import seaborn as sns\n",
    "import matplotlib.pyplot as plt\n",
    "\n",
    "sns.countplot(x=\"Sex\", hue=\"Survived\", data=train)\n",
    "plt.title(\"Survival Rate by Gender\")\n",
    "\n",
    "sns.countplot(x=\"Pclass\", hue=\"Survived\", data=train)\n",
    "plt.title(\"Survival Rate by Passenger Class\")\n",
    "\n",
    "sns.histplot(train['Age'].dropna(), kde=True)\n",
    "plt.title(\"Age Distribution\")\n",
    "\n",
    "sns.boxplot(x=\"Survived\", y=\"Fare\", data=train)\n",
    "plt.title(\"Fare vs Survival\")\n",
    "plt.show()\n"
   ]
  },
  {
   "cell_type": "code",
   "execution_count": 10,
   "id": "5a8cfc51",
   "metadata": {
    "execution": {
     "iopub.execute_input": "2025-10-20T13:53:23.377616Z",
     "iopub.status.busy": "2025-10-20T13:53:23.377131Z",
     "iopub.status.idle": "2025-10-20T13:53:23.712863Z",
     "shell.execute_reply": "2025-10-20T13:53:23.711877Z"
    },
    "papermill": {
     "duration": 0.34606,
     "end_time": "2025-10-20T13:53:23.714302",
     "exception": false,
     "start_time": "2025-10-20T13:53:23.368242",
     "status": "completed"
    },
    "tags": []
   },
   "outputs": [
    {
     "data": {
      "image/png": "[encoded data removed]",
      "text/plain": [
       "<Figure size 640x480 with 2 Axes>"
      ]
     },
     "metadata": {},
     "output_type": "display_data"
    }
   ],
   "source": [
    "#Check Numeric Correlations\n",
    "train.corr(numeric_only=True)\n",
    "sns.heatmap(train.corr(numeric_only=True), annot=True, cmap=\"coolwarm\")\n",
    "plt.show()\n"
   ]
  },
  {
   "cell_type": "code",
   "execution_count": 11,
   "id": "d24f6fe5",
   "metadata": {
    "execution": {
     "iopub.execute_input": "2025-10-20T13:53:23.735141Z",
     "iopub.status.busy": "2025-10-20T13:53:23.734817Z",
     "iopub.status.idle": "2025-10-20T13:53:23.741709Z",
     "shell.execute_reply": "2025-10-20T13:53:23.740619Z"
    },
    "papermill": {
     "duration": 0.018634,
     "end_time": "2025-10-20T13:53:23.743244",
     "exception": false,
     "start_time": "2025-10-20T13:53:23.724610",
     "status": "completed"
    },
    "tags": []
   },
   "outputs": [],
   "source": [
    "#Create new features\n",
    "train['FamilySize'] = train['SibSp'] + train['Parch']\n",
    "train['IsAlone'] = (train['FamilySize'] == 0).astype(int)\n"
   ]
  },
  {
   "cell_type": "code",
   "execution_count": 12,
   "id": "9cfbeda6",
   "metadata": {
    "execution": {
     "iopub.execute_input": "2025-10-20T13:53:23.763461Z",
     "iopub.status.busy": "2025-10-20T13:53:23.763129Z",
     "iopub.status.idle": "2025-10-20T13:53:23.774170Z",
     "shell.execute_reply": "2025-10-20T13:53:23.773207Z"
    },
    "papermill": {
     "duration": 0.023067,
     "end_time": "2025-10-20T13:53:23.775839",
     "exception": false,
     "start_time": "2025-10-20T13:53:23.752772",
     "status": "completed"
    },
    "tags": []
   },
   "outputs": [],
   "source": [
    "#Convert Texts to Numbers safely\n",
    "\n",
    "# 1. Convert 'Sex' to numeric\n",
    "train['Sex'] = train['Sex'].map({'male': 0, 'female': 1})\n",
    "\n",
    "# 2. Encode 'Embarked' only if it's still in your columns\n",
    "if 'Embarked' in train.columns:\n",
    "    train = pd.get_dummies(train, columns=['Embarked'], drop_first=True)\n",
    "else:\n",
    "    print(\"Embarked already encoded. Found columns:\", [c for c in train.columns if c.startswith('Embarked')])\n"
   ]
  },
  {
   "cell_type": "code",
   "execution_count": 13,
   "id": "50347b2a",
   "metadata": {
    "execution": {
     "iopub.execute_input": "2025-10-20T13:53:23.798509Z",
     "iopub.status.busy": "2025-10-20T13:53:23.798149Z",
     "iopub.status.idle": "2025-10-20T13:53:23.809234Z",
     "shell.execute_reply": "2025-10-20T13:53:23.808433Z"
    },
    "papermill": {
     "duration": 0.025626,
     "end_time": "2025-10-20T13:53:23.811008",
     "exception": false,
     "start_time": "2025-10-20T13:53:23.785382",
     "status": "completed"
    },
    "tags": []
   },
   "outputs": [],
   "source": [
    "#Do the same for test data\n",
    "test['Sex'] = test['Sex'].map({'male': 0, 'female': 1})\n",
    "\n",
    "if 'Embarked' in test.columns:\n",
    "    test = pd.get_dummies(test, columns=['Embarked'], drop_first=True)\n",
    "else:\n",
    "    print(\"Embarked already encoded in test. Found:\", [c for c in test.columns if c.startswith('Embarked')])\n"
   ]
  },
  {
   "cell_type": "code",
   "execution_count": 14,
   "id": "db9ed788",
   "metadata": {
    "execution": {
     "iopub.execute_input": "2025-10-20T13:53:23.836552Z",
     "iopub.status.busy": "2025-10-20T13:53:23.835484Z",
     "iopub.status.idle": "2025-10-20T13:53:23.843504Z",
     "shell.execute_reply": "2025-10-20T13:53:23.842611Z"
    },
    "papermill": {
     "duration": 0.023565,
     "end_time": "2025-10-20T13:53:23.845389",
     "exception": false,
     "start_time": "2025-10-20T13:53:23.821824",
     "status": "completed"
    },
    "tags": []
   },
   "outputs": [],
   "source": [
    "#align both datasets\n",
    "train, test = train.align(test, join='left', axis=1, fill_value=0)\n"
   ]
  },
  {
   "cell_type": "code",
   "execution_count": 15,
   "id": "f19cbef5",
   "metadata": {
    "execution": {
     "iopub.execute_input": "2025-10-20T13:53:23.868838Z",
     "iopub.status.busy": "2025-10-20T13:53:23.868442Z",
     "iopub.status.idle": "2025-10-20T13:53:23.875152Z",
     "shell.execute_reply": "2025-10-20T13:53:23.874211Z"
    },
    "papermill": {
     "duration": 0.020992,
     "end_time": "2025-10-20T13:53:23.878053",
     "exception": false,
     "start_time": "2025-10-20T13:53:23.857061",
     "status": "completed"
    },
    "tags": []
   },
   "outputs": [
    {
     "name": "stdout",
     "output_type": "stream",
     "text": [
      "Index(['PassengerId', 'Survived', 'Pclass', 'Name', 'Sex', 'Age', 'SibSp',\n",
      "       'Parch', 'Ticket', 'Fare', 'FamilySize', 'IsAlone', 'Embarked_Q',\n",
      "       'Embarked_S'],\n",
      "      dtype='object')\n",
      "Index(['PassengerId', 'Survived', 'Pclass', 'Name', 'Sex', 'Age', 'SibSp',\n",
      "       'Parch', 'Ticket', 'Fare', 'FamilySize', 'IsAlone', 'Embarked_Q',\n",
      "       'Embarked_S'],\n",
      "      dtype='object')\n"
     ]
    }
   ],
   "source": [
    "#Verify everything\n",
    "print(train.columns)\n",
    "print(test.columns)\n"
   ]
  },
  {
   "cell_type": "code",
   "execution_count": 16,
   "id": "43b51f78",
   "metadata": {
    "execution": {
     "iopub.execute_input": "2025-10-20T13:53:23.900160Z",
     "iopub.status.busy": "2025-10-20T13:53:23.899864Z",
     "iopub.status.idle": "2025-10-20T13:53:23.906188Z",
     "shell.execute_reply": "2025-10-20T13:53:23.905240Z"
    },
    "papermill": {
     "duration": 0.018375,
     "end_time": "2025-10-20T13:53:23.907757",
     "exception": false,
     "start_time": "2025-10-20T13:53:23.889382",
     "status": "completed"
    },
    "tags": []
   },
   "outputs": [],
   "source": [
    "# core\n",
    "import pandas as pd\n",
    "import numpy as np\n",
    "\n",
    "# viz\n",
    "import seaborn as sns\n",
    "import matplotlib.pyplot as plt\n",
    "\n",
    "# ml\n",
    "from sklearn.model_selection import train_test_split\n",
    "from sklearn.linear_model import LogisticRegression\n",
    "from sklearn.metrics import accuracy_score, confusion_matrix, classification_report\n",
    "\n",
    "# tidy notebook output\n",
    "pd.set_option(\"display.max_columns\", 100)\n",
    "sns.set(style=\"whitegrid\", rc={\"figure.figsize\": (8, 4)})\n"
   ]
  },
  {
   "cell_type": "code",
   "execution_count": 17,
   "id": "3009a6a1",
   "metadata": {
    "execution": {
     "iopub.execute_input": "2025-10-20T13:53:23.928844Z",
     "iopub.status.busy": "2025-10-20T13:53:23.927993Z",
     "iopub.status.idle": "2025-10-20T13:53:23.951770Z",
     "shell.execute_reply": "2025-10-20T13:53:23.950671Z"
    },
    "papermill": {
     "duration": 0.03591,
     "end_time": "2025-10-20T13:53:23.953550",
     "exception": false,
     "start_time": "2025-10-20T13:53:23.917640",
     "status": "completed"
    },
    "tags": []
   },
   "outputs": [
    {
     "data": {
      "text/html": [
       "<div>\n",
       "<style scoped>\n",
       "    .dataframe tbody tr th:only-of-type {\n",
       "        vertical-align: middle;\n",
       "    }\n",
       "\n",
       "    .dataframe tbody tr th {\n",
       "        vertical-align: top;\n",
       "    }\n",
       "\n",
       "    .dataframe thead th {\n",
       "        text-align: right;\n",
       "    }\n",
       "</style>\n",
       "<table border=\"1\" class=\"dataframe\">\n",
       "  <thead>\n",
       "    <tr style=\"text-align: right;\">\n",
       "      <th></th>\n",
       "      <th>PassengerId</th>\n",
       "      <th>Survived</th>\n",
       "      <th>Pclass</th>\n",
       "      <th>Name</th>\n",
       "      <th>Sex</th>\n",
       "      <th>Age</th>\n",
       "      <th>SibSp</th>\n",
       "      <th>Parch</th>\n",
       "      <th>Ticket</th>\n",
       "      <th>Fare</th>\n",
       "      <th>Cabin</th>\n",
       "      <th>Embarked</th>\n",
       "    </tr>\n",
       "  </thead>\n",
       "  <tbody>\n",
       "    <tr>\n",
       "      <th>0</th>\n",
       "      <td>1</td>\n",
       "      <td>0</td>\n",
       "      <td>3</td>\n",
       "      <td>Braund, Mr. Owen Harris</td>\n",
       "      <td>male</td>\n",
       "      <td>22.0</td>\n",
       "      <td>1</td>\n",
       "      <td>0</td>\n",
       "      <td>A/5 21171</td>\n",
       "      <td>7.2500</td>\n",
       "      <td>NaN</td>\n",
       "      <td>S</td>\n",
       "    </tr>\n",
       "    <tr>\n",
       "      <th>1</th>\n",
       "      <td>2</td>\n",
       "      <td>1</td>\n",
       "      <td>1</td>\n",
       "      <td>Cumings, Mrs. John Bradley (Florence Briggs Th...</td>\n",
       "      <td>female</td>\n",
       "      <td>38.0</td>\n",
       "      <td>1</td>\n",
       "      <td>0</td>\n",
       "      <td>PC 17599</td>\n",
       "      <td>71.2833</td>\n",
       "      <td>C85</td>\n",
       "      <td>C</td>\n",
       "    </tr>\n",
       "    <tr>\n",
       "      <th>2</th>\n",
       "      <td>3</td>\n",
       "      <td>1</td>\n",
       "      <td>3</td>\n",
       "      <td>Heikkinen, Miss. Laina</td>\n",
       "      <td>female</td>\n",
       "      <td>26.0</td>\n",
       "      <td>0</td>\n",
       "      <td>0</td>\n",
       "      <td>STON/O2. 3101282</td>\n",
       "      <td>7.9250</td>\n",
       "      <td>NaN</td>\n",
       "      <td>S</td>\n",
       "    </tr>\n",
       "    <tr>\n",
       "      <th>3</th>\n",
       "      <td>4</td>\n",
       "      <td>1</td>\n",
       "      <td>1</td>\n",
       "      <td>Futrelle, Mrs. Jacques Heath (Lily May Peel)</td>\n",
       "      <td>female</td>\n",
       "      <td>35.0</td>\n",
       "      <td>1</td>\n",
       "      <td>0</td>\n",
       "      <td>113803</td>\n",
       "      <td>53.1000</td>\n",
       "      <td>C123</td>\n",
       "      <td>S</td>\n",
       "    </tr>\n",
       "    <tr>\n",
       "      <th>4</th>\n",
       "      <td>5</td>\n",
       "      <td>0</td>\n",
       "      <td>3</td>\n",
       "      <td>Allen, Mr. William Henry</td>\n",
       "      <td>male</td>\n",
       "      <td>35.0</td>\n",
       "      <td>0</td>\n",
       "      <td>0</td>\n",
       "      <td>373450</td>\n",
       "      <td>8.0500</td>\n",
       "      <td>NaN</td>\n",
       "      <td>S</td>\n",
       "    </tr>\n",
       "  </tbody>\n",
       "</table>\n",
       "</div>"
      ],
      "text/plain": [
       "   PassengerId  Survived  Pclass  \\\n",
       "0            1         0       3   \n",
       "1            2         1       1   \n",
       "2            3         1       3   \n",
       "3            4         1       1   \n",
       "4            5         0       3   \n",
       "\n",
       "                                                Name     Sex   Age  SibSp  \\\n",
       "0                            Braund, Mr. Owen Harris    male  22.0      1   \n",
       "1  Cumings, Mrs. John Bradley (Florence Briggs Th...  female  38.0      1   \n",
       "2                             Heikkinen, Miss. Laina  female  26.0      0   \n",
       "3       Futrelle, Mrs. Jacques Heath (Lily May Peel)  female  35.0      1   \n",
       "4                           Allen, Mr. William Henry    male  35.0      0   \n",
       "\n",
       "   Parch            Ticket     Fare Cabin Embarked  \n",
       "0      0         A/5 21171   7.2500   NaN        S  \n",
       "1      0          PC 17599  71.2833   C85        C  \n",
       "2      0  STON/O2. 3101282   7.9250   NaN        S  \n",
       "3      0            113803  53.1000  C123        S  \n",
       "4      0            373450   8.0500   NaN        S  "
      ]
     },
     "execution_count": 17,
     "metadata": {},
     "output_type": "execute_result"
    }
   ],
   "source": [
    "train = pd.read_csv(\"/kaggle/input/titanic/train.csv\")\n",
    "test  = pd.read_csv(\"/kaggle/input/titanic/test.csv\")\n",
    "\n",
    "# quick peek (only the last line auto-renders in notebooks)\n",
    "train.head()\n"
   ]
  },
  {
   "cell_type": "code",
   "execution_count": 18,
   "id": "35681e94",
   "metadata": {
    "execution": {
     "iopub.execute_input": "2025-10-20T13:53:23.974667Z",
     "iopub.status.busy": "2025-10-20T13:53:23.974051Z",
     "iopub.status.idle": "2025-10-20T13:53:23.988152Z",
     "shell.execute_reply": "2025-10-20T13:53:23.986975Z"
    },
    "papermill": {
     "duration": 0.026327,
     "end_time": "2025-10-20T13:53:23.989760",
     "exception": false,
     "start_time": "2025-10-20T13:53:23.963433",
     "status": "completed"
    },
    "tags": []
   },
   "outputs": [
    {
     "name": "stdout",
     "output_type": "stream",
     "text": [
      "train shape: (891, 12)\n",
      "\n",
      "train info:\n",
      "<class 'pandas.core.frame.DataFrame'>\n",
      "RangeIndex: 891 entries, 0 to 890\n",
      "Data columns (total 12 columns):\n",
      " #   Column       Non-Null Count  Dtype  \n",
      "---  ------       --------------  -----  \n",
      " 0   PassengerId  891 non-null    int64  \n",
      " 1   Survived     891 non-null    int64  \n",
      " 2   Pclass       891 non-null    int64  \n",
      " 3   Name         891 non-null    object \n",
      " 4   Sex          891 non-null    object \n",
      " 5   Age          714 non-null    float64\n",
      " 6   SibSp        891 non-null    int64  \n",
      " 7   Parch        891 non-null    int64  \n",
      " 8   Ticket       891 non-null    object \n",
      " 9   Fare         891 non-null    float64\n",
      " 10  Cabin        204 non-null    object \n",
      " 11  Embarked     889 non-null    object \n",
      "dtypes: float64(2), int64(5), object(5)\n",
      "memory usage: 83.7+ KB\n",
      "\n",
      "missing:\n",
      " PassengerId      0\n",
      "Survived         0\n",
      "Pclass           0\n",
      "Name             0\n",
      "Sex              0\n",
      "Age            177\n",
      "SibSp            0\n",
      "Parch            0\n",
      "Ticket           0\n",
      "Fare             0\n",
      "Cabin          687\n",
      "Embarked         2\n",
      "dtype: int64\n"
     ]
    }
   ],
   "source": [
    "print(\"train shape:\", train.shape)\n",
    "print(\"\\ntrain info:\")\n",
    "train.info()\n",
    "print(\"\\nmissing:\\n\", train.isnull().sum())\n"
   ]
  },
  {
   "cell_type": "code",
   "execution_count": 19,
   "id": "c6037e91",
   "metadata": {
    "execution": {
     "iopub.execute_input": "2025-10-20T13:53:24.011385Z",
     "iopub.status.busy": "2025-10-20T13:53:24.011046Z",
     "iopub.status.idle": "2025-10-20T13:53:24.019890Z",
     "shell.execute_reply": "2025-10-20T13:53:24.018949Z"
    },
    "papermill": {
     "duration": 0.021318,
     "end_time": "2025-10-20T13:53:24.021567",
     "exception": false,
     "start_time": "2025-10-20T13:53:24.000249",
     "status": "completed"
    },
    "tags": []
   },
   "outputs": [],
   "source": [
    "# Fix missing values\n",
    "\n",
    "# 1. Embarked → fill with most common value\n",
    "train[\"Embarked\"] = train[\"Embarked\"].fillna(train[\"Embarked\"].mode()[0])\n",
    "\n",
    "# 2. Age → fill with median (safer than mean)\n",
    "train[\"Age\"] = train[\"Age\"].fillna(train[\"Age\"].median())\n",
    "\n",
    "# 3. Cabin → drop (too many missing)\n",
    "train = train.drop(columns=[\"Cabin\"], errors=\"ignore\")\n"
   ]
  },
  {
   "cell_type": "code",
   "execution_count": 20,
   "id": "7e792994",
   "metadata": {
    "execution": {
     "iopub.execute_input": "2025-10-20T13:53:24.042470Z",
     "iopub.status.busy": "2025-10-20T13:53:24.042128Z",
     "iopub.status.idle": "2025-10-20T13:53:24.050199Z",
     "shell.execute_reply": "2025-10-20T13:53:24.049269Z"
    },
    "papermill": {
     "duration": 0.020147,
     "end_time": "2025-10-20T13:53:24.051756",
     "exception": false,
     "start_time": "2025-10-20T13:53:24.031609",
     "status": "completed"
    },
    "tags": []
   },
   "outputs": [
    {
     "data": {
      "text/plain": [
       "PassengerId    0\n",
       "Survived       0\n",
       "Pclass         0\n",
       "Name           0\n",
       "Sex            0\n",
       "Age            0\n",
       "SibSp          0\n",
       "Parch          0\n",
       "Ticket         0\n",
       "Fare           0\n",
       "Embarked       0\n",
       "dtype: int64"
      ]
     },
     "execution_count": 20,
     "metadata": {},
     "output_type": "execute_result"
    }
   ],
   "source": [
    "train.isnull().sum()\n"
   ]
  },
  {
   "cell_type": "code",
   "execution_count": 21,
   "id": "dbdd64c3",
   "metadata": {
    "execution": {
     "iopub.execute_input": "2025-10-20T13:53:24.073051Z",
     "iopub.status.busy": "2025-10-20T13:53:24.072720Z",
     "iopub.status.idle": "2025-10-20T13:53:24.260066Z",
     "shell.execute_reply": "2025-10-20T13:53:24.259036Z"
    },
    "papermill": {
     "duration": 0.199798,
     "end_time": "2025-10-20T13:53:24.261602",
     "exception": false,
     "start_time": "2025-10-20T13:53:24.061804",
     "status": "completed"
    },
    "tags": []
   },
   "outputs": [
    {
     "name": "stdout",
     "output_type": "stream",
     "text": [
      "survived rate: 0.384\n",
      "\n",
      "Sex counts:\n",
      " Sex\n",
      "male      577\n",
      "female    314\n",
      "Name: count, dtype: int64\n",
      "\n",
      "Embarked counts:\n",
      " Embarked\n",
      "S    646\n",
      "C    168\n",
      "Q     77\n",
      "Name: count, dtype: int64\n"
     ]
    },
    {
     "data": {
      "image/png": "[encoded data removed]",
      "text/plain": [
       "<Figure size 800x400 with 1 Axes>"
      ]
     },
     "metadata": {},
     "output_type": "display_data"
    }
   ],
   "source": [
    "# distribution of target\n",
    "print(\"survived rate:\", train[\"Survived\"].mean().round(3))\n",
    "\n",
    "# quick categorical counts\n",
    "print(\"\\nSex counts:\\n\", train[\"Sex\"].value_counts(dropna=False))\n",
    "print(\"\\nEmbarked counts:\\n\", train[\"Embarked\"].value_counts(dropna=False))\n",
    "\n",
    "# one fast plot (gender vs survival)\n",
    "sns.countplot(x=\"Sex\", hue=\"Survived\", data=train); plt.title(\"Survival by Sex\"); plt.show()\n"
   ]
  },
  {
   "cell_type": "code",
   "execution_count": 22,
   "id": "9f3475fc",
   "metadata": {
    "execution": {
     "iopub.execute_input": "2025-10-20T13:53:24.284307Z",
     "iopub.status.busy": "2025-10-20T13:53:24.283610Z",
     "iopub.status.idle": "2025-10-20T13:53:24.290471Z",
     "shell.execute_reply": "2025-10-20T13:53:24.289345Z"
    },
    "papermill": {
     "duration": 0.019754,
     "end_time": "2025-10-20T13:53:24.292088",
     "exception": false,
     "start_time": "2025-10-20T13:53:24.272334",
     "status": "completed"
    },
    "tags": []
   },
   "outputs": [],
   "source": [
    "# 1) Embarked: fill 2 missings with mode\n",
    "if train[\"Embarked\"].isna().sum() > 0:\n",
    "    train[\"Embarked\"] = train[\"Embarked\"].fillna(train[\"Embarked\"].mode()[0])\n",
    "\n",
    "# 2) Age: fill 177 missings with median\n",
    "if train[\"Age\"].isna().sum() > 0:\n",
    "    train[\"Age\"] = train[\"Age\"].fillna(train[\"Age\"].median())\n",
    "\n",
    "# 3) Cabin: drop (too sparse)\n",
    "if \"Cabin\" in train.columns:\n",
    "    train = train.drop(columns=[\"Cabin\"])\n"
   ]
  },
  {
   "cell_type": "code",
   "execution_count": 23,
   "id": "1812c9f4",
   "metadata": {
    "execution": {
     "iopub.execute_input": "2025-10-20T13:53:24.314642Z",
     "iopub.status.busy": "2025-10-20T13:53:24.313783Z",
     "iopub.status.idle": "2025-10-20T13:53:24.322834Z",
     "shell.execute_reply": "2025-10-20T13:53:24.321807Z"
    },
    "papermill": {
     "duration": 0.021883,
     "end_time": "2025-10-20T13:53:24.324472",
     "exception": false,
     "start_time": "2025-10-20T13:53:24.302589",
     "status": "completed"
    },
    "tags": []
   },
   "outputs": [],
   "source": [
    "# Embarked\n",
    "if \"Embarked\" in test.columns and test[\"Embarked\"].isna().sum() > 0:\n",
    "    test[\"Embarked\"] = test[\"Embarked\"].fillna(test[\"Embarked\"].mode()[0])\n",
    "\n",
    "# Age\n",
    "if test[\"Age\"].isna().sum() > 0:\n",
    "    test[\"Age\"] = test[\"Age\"].fillna(test[\"Age\"].median())\n",
    "\n",
    "# Fare (test sometimes has 1 missing)\n",
    "if \"Fare\" in test.columns and test[\"Fare\"].isna().sum() > 0:\n",
    "    test[\"Fare\"] = test[\"Fare\"].fillna(test[\"Fare\"].median())\n",
    "\n",
    "# Cabin\n",
    "if \"Cabin\" in test.columns:\n",
    "    test = test.drop(columns=[\"Cabin\"])\n"
   ]
  },
  {
   "cell_type": "code",
   "execution_count": 24,
   "id": "469a2b9e",
   "metadata": {
    "execution": {
     "iopub.execute_input": "2025-10-20T13:53:24.346982Z",
     "iopub.status.busy": "2025-10-20T13:53:24.346351Z",
     "iopub.status.idle": "2025-10-20T13:53:24.352747Z",
     "shell.execute_reply": "2025-10-20T13:53:24.351646Z"
    },
    "papermill": {
     "duration": 0.019153,
     "end_time": "2025-10-20T13:53:24.354277",
     "exception": false,
     "start_time": "2025-10-20T13:53:24.335124",
     "status": "completed"
    },
    "tags": []
   },
   "outputs": [],
   "source": [
    "# family size is predictive on titanic\n",
    "train[\"FamilySize\"] = train[\"SibSp\"] + train[\"Parch\"]\n",
    "test[\"FamilySize\"]  = test[\"SibSp\"] + test[\"Parch\"]\n"
   ]
  },
  {
   "cell_type": "code",
   "execution_count": 25,
   "id": "1dcfabf7",
   "metadata": {
    "execution": {
     "iopub.execute_input": "2025-10-20T13:53:24.377079Z",
     "iopub.status.busy": "2025-10-20T13:53:24.376783Z",
     "iopub.status.idle": "2025-10-20T13:53:24.392540Z",
     "shell.execute_reply": "2025-10-20T13:53:24.391637Z"
    },
    "papermill": {
     "duration": 0.029056,
     "end_time": "2025-10-20T13:53:24.394116",
     "exception": false,
     "start_time": "2025-10-20T13:53:24.365060",
     "status": "completed"
    },
    "tags": []
   },
   "outputs": [],
   "source": [
    "# map Sex to 0/1\n",
    "train[\"Sex\"] = train[\"Sex\"].map({\"male\": 0, \"female\": 1})\n",
    "test[\"Sex\"]  = test[\"Sex\"].map({\"male\": 0, \"female\": 1})\n",
    "\n",
    "# one-hot encode Embarked *if still present*\n",
    "if \"Embarked\" in train.columns:\n",
    "    train = pd.get_dummies(train, columns=[\"Embarked\"], drop_first=True)\n",
    "if \"Embarked\" in test.columns:\n",
    "    test  = pd.get_dummies(test,  columns=[\"Embarked\"], drop_first=True)\n",
    "\n",
    "# ensure identical columns (fill missing dummies with 0)\n",
    "train, test = train.align(test, join=\"left\", axis=1, fill_value=0)\n"
   ]
  },
  {
   "cell_type": "code",
   "execution_count": 26,
   "id": "daba5b0a",
   "metadata": {
    "execution": {
     "iopub.execute_input": "2025-10-20T13:53:24.416753Z",
     "iopub.status.busy": "2025-10-20T13:53:24.416451Z",
     "iopub.status.idle": "2025-10-20T13:53:24.432764Z",
     "shell.execute_reply": "2025-10-20T13:53:24.431908Z"
    },
    "papermill": {
     "duration": 0.029419,
     "end_time": "2025-10-20T13:53:24.434185",
     "exception": false,
     "start_time": "2025-10-20T13:53:24.404766",
     "status": "completed"
    },
    "tags": []
   },
   "outputs": [
    {
     "data": {
      "text/html": [
       "<div>\n",
       "<style scoped>\n",
       "    .dataframe tbody tr th:only-of-type {\n",
       "        vertical-align: middle;\n",
       "    }\n",
       "\n",
       "    .dataframe tbody tr th {\n",
       "        vertical-align: top;\n",
       "    }\n",
       "\n",
       "    .dataframe thead th {\n",
       "        text-align: right;\n",
       "    }\n",
       "</style>\n",
       "<table border=\"1\" class=\"dataframe\">\n",
       "  <thead>\n",
       "    <tr style=\"text-align: right;\">\n",
       "      <th></th>\n",
       "      <th>Pclass</th>\n",
       "      <th>Sex</th>\n",
       "      <th>Age</th>\n",
       "      <th>SibSp</th>\n",
       "      <th>Parch</th>\n",
       "      <th>Fare</th>\n",
       "      <th>FamilySize</th>\n",
       "      <th>Embarked_Q</th>\n",
       "      <th>Embarked_S</th>\n",
       "    </tr>\n",
       "  </thead>\n",
       "  <tbody>\n",
       "    <tr>\n",
       "      <th>0</th>\n",
       "      <td>3</td>\n",
       "      <td>0</td>\n",
       "      <td>22.0</td>\n",
       "      <td>1</td>\n",
       "      <td>0</td>\n",
       "      <td>7.2500</td>\n",
       "      <td>1</td>\n",
       "      <td>False</td>\n",
       "      <td>True</td>\n",
       "    </tr>\n",
       "    <tr>\n",
       "      <th>1</th>\n",
       "      <td>1</td>\n",
       "      <td>1</td>\n",
       "      <td>38.0</td>\n",
       "      <td>1</td>\n",
       "      <td>0</td>\n",
       "      <td>71.2833</td>\n",
       "      <td>1</td>\n",
       "      <td>False</td>\n",
       "      <td>False</td>\n",
       "    </tr>\n",
       "    <tr>\n",
       "      <th>2</th>\n",
       "      <td>3</td>\n",
       "      <td>1</td>\n",
       "      <td>26.0</td>\n",
       "      <td>0</td>\n",
       "      <td>0</td>\n",
       "      <td>7.9250</td>\n",
       "      <td>0</td>\n",
       "      <td>False</td>\n",
       "      <td>True</td>\n",
       "    </tr>\n",
       "    <tr>\n",
       "      <th>3</th>\n",
       "      <td>1</td>\n",
       "      <td>1</td>\n",
       "      <td>35.0</td>\n",
       "      <td>1</td>\n",
       "      <td>0</td>\n",
       "      <td>53.1000</td>\n",
       "      <td>1</td>\n",
       "      <td>False</td>\n",
       "      <td>True</td>\n",
       "    </tr>\n",
       "    <tr>\n",
       "      <th>4</th>\n",
       "      <td>3</td>\n",
       "      <td>0</td>\n",
       "      <td>35.0</td>\n",
       "      <td>0</td>\n",
       "      <td>0</td>\n",
       "      <td>8.0500</td>\n",
       "      <td>0</td>\n",
       "      <td>False</td>\n",
       "      <td>True</td>\n",
       "    </tr>\n",
       "  </tbody>\n",
       "</table>\n",
       "</div>"
      ],
      "text/plain": [
       "   Pclass  Sex   Age  SibSp  Parch     Fare  FamilySize  Embarked_Q  \\\n",
       "0       3    0  22.0      1      0   7.2500           1       False   \n",
       "1       1    1  38.0      1      0  71.2833           1       False   \n",
       "2       3    1  26.0      0      0   7.9250           0       False   \n",
       "3       1    1  35.0      1      0  53.1000           1       False   \n",
       "4       3    0  35.0      0      0   8.0500           0       False   \n",
       "\n",
       "   Embarked_S  \n",
       "0        True  \n",
       "1       False  \n",
       "2        True  \n",
       "3        True  \n",
       "4        True  "
      ]
     },
     "execution_count": 26,
     "metadata": {},
     "output_type": "execute_result"
    }
   ],
   "source": [
    "# keep only columns you want to model with (drop text/id/target)\n",
    "cols_to_drop = [\"Survived\", \"Name\", \"Ticket\"]  # target + noisy text-like\n",
    "X = train.drop(columns=[c for c in cols_to_drop if c in train.columns])\n",
    "\n",
    "# ensure PassengerId stays as an ID for submission, not as a feature\n",
    "if \"PassengerId\" in X.columns:\n",
    "    X = X.drop(columns=[\"PassengerId\"])\n",
    "\n",
    "y = train[\"Survived\"]\n",
    "X.head()\n"
   ]
  },
  {
   "cell_type": "code",
   "execution_count": 27,
   "id": "ac5986b1",
   "metadata": {
    "execution": {
     "iopub.execute_input": "2025-10-20T13:53:24.457651Z",
     "iopub.status.busy": "2025-10-20T13:53:24.456791Z",
     "iopub.status.idle": "2025-10-20T13:53:24.465608Z",
     "shell.execute_reply": "2025-10-20T13:53:24.464446Z"
    },
    "papermill": {
     "duration": 0.022288,
     "end_time": "2025-10-20T13:53:24.467285",
     "exception": false,
     "start_time": "2025-10-20T13:53:24.444997",
     "status": "completed"
    },
    "tags": []
   },
   "outputs": [
    {
     "name": "stdout",
     "output_type": "stream",
     "text": [
      "(712, 9) (179, 9)\n"
     ]
    }
   ],
   "source": [
    "X_train, X_val, y_train, y_val = train_test_split(\n",
    "    X, y, test_size=0.2, random_state=42, stratify=y\n",
    ")\n",
    "print(X_train.shape, X_val.shape)\n"
   ]
  },
  {
   "cell_type": "code",
   "execution_count": 28,
   "id": "477be227",
   "metadata": {
    "execution": {
     "iopub.execute_input": "2025-10-20T13:53:24.490036Z",
     "iopub.status.busy": "2025-10-20T13:53:24.489717Z",
     "iopub.status.idle": "2025-10-20T13:53:25.244226Z",
     "shell.execute_reply": "2025-10-20T13:53:25.243289Z"
    },
    "papermill": {
     "duration": 0.767882,
     "end_time": "2025-10-20T13:53:25.246137",
     "exception": false,
     "start_time": "2025-10-20T13:53:24.478255",
     "status": "completed"
    },
    "tags": []
   },
   "outputs": [
    {
     "name": "stdout",
     "output_type": "stream",
     "text": [
      "Validation accuracy: 0.8045\n",
      "\n",
      "Confusion matrix:\n",
      " [[98 12]\n",
      " [23 46]]\n",
      "\n",
      "Classification report:\n",
      "               precision    recall  f1-score   support\n",
      "\n",
      "           0      0.810     0.891     0.848       110\n",
      "           1      0.793     0.667     0.724        69\n",
      "\n",
      "    accuracy                          0.804       179\n",
      "   macro avg      0.802     0.779     0.786       179\n",
      "weighted avg      0.803     0.804     0.801       179\n",
      "\n"
     ]
    }
   ],
   "source": [
    "from sklearn.linear_model import LogisticRegression\n",
    "from sklearn.metrics import accuracy_score, confusion_matrix, classification_report\n",
    "\n",
    "# Train\n",
    "logreg = LogisticRegression(max_iter=200)\n",
    "logreg.fit(X_train, y_train)\n",
    "\n",
    "# Predict on validation set\n",
    "val_pred = logreg.predict(X_val)\n",
    "\n",
    "# Evaluate performance\n",
    "print(\"Validation accuracy:\", round(accuracy_score(y_val, val_pred), 4))\n",
    "print(\"\\nConfusion matrix:\\n\", confusion_matrix(y_val, val_pred))\n",
    "print(\"\\nClassification report:\\n\", classification_report(y_val, val_pred, digits=3))\n"
   ]
  },
  {
   "cell_type": "code",
   "execution_count": 29,
   "id": "b4fb7f82",
   "metadata": {
    "execution": {
     "iopub.execute_input": "2025-10-20T13:53:25.282009Z",
     "iopub.status.busy": "2025-10-20T13:53:25.281640Z",
     "iopub.status.idle": "2025-10-20T13:53:25.292025Z",
     "shell.execute_reply": "2025-10-20T13:53:25.291229Z"
    },
    "papermill": {
     "duration": 0.030578,
     "end_time": "2025-10-20T13:53:25.294036",
     "exception": false,
     "start_time": "2025-10-20T13:53:25.263458",
     "status": "completed"
    },
    "tags": []
   },
   "outputs": [
    {
     "name": "stdout",
     "output_type": "stream",
     "text": [
      "Series([], dtype: int64)\n"
     ]
    }
   ],
   "source": [
    "# Which features still have NaN?\n",
    "na_counts = X.isnull().sum()\n",
    "print(na_counts[na_counts > 0].sort_values(ascending=False))\n"
   ]
  },
  {
   "cell_type": "code",
   "execution_count": 30,
   "id": "a52a84ae",
   "metadata": {
    "execution": {
     "iopub.execute_input": "2025-10-20T13:53:25.330009Z",
     "iopub.status.busy": "2025-10-20T13:53:25.329652Z",
     "iopub.status.idle": "2025-10-20T13:53:25.365494Z",
     "shell.execute_reply": "2025-10-20T13:53:25.364465Z"
    },
    "papermill": {
     "duration": 0.055806,
     "end_time": "2025-10-20T13:53:25.366963",
     "exception": false,
     "start_time": "2025-10-20T13:53:25.311157",
     "status": "completed"
    },
    "tags": []
   },
   "outputs": [
    {
     "name": "stdout",
     "output_type": "stream",
     "text": [
      "(712, 9) (179, 9)\n",
      "NaNs in X_train:\n",
      " Series([], dtype: int64)\n"
     ]
    }
   ],
   "source": [
    "# 1) Restore original Sex from source files using PassengerId as key\n",
    "raw_train = pd.read_csv(\"/kaggle/input/titanic/train.csv\", usecols=[\"PassengerId\", \"Sex\"])\n",
    "raw_test  = pd.read_csv(\"/kaggle/input/titanic/test.csv\",  usecols=[\"PassengerId\", \"Sex\"])\n",
    "\n",
    "# drop broken Sex (if present), then merge back the raw column\n",
    "train = train.drop(columns=[\"Sex\"], errors=\"ignore\").merge(raw_train, on=\"PassengerId\", how=\"left\")\n",
    "test  = test.drop(columns=[\"Sex\"],  errors=\"ignore\").merge(raw_test,  on=\"PassengerId\", how=\"left\")\n",
    "\n",
    "# 2) Robust mapping to 0/1\n",
    "train[\"Sex\"] = train[\"Sex\"].str.strip().str.lower().map({\"male\": 0, \"female\": 1})\n",
    "test[\"Sex\"]  = test[\"Sex\"].str.strip().str.lower().map({\"male\": 0, \"female\": 1})\n",
    "\n",
    "# safety: if anything unmapped slipped through, fill with the mode\n",
    "if train[\"Sex\"].isna().any():\n",
    "    train[\"Sex\"] = train[\"Sex\"].fillna(train[\"Sex\"].mode()[0])\n",
    "if test[\"Sex\"].isna().any():\n",
    "    test[\"Sex\"] = test[\"Sex\"].fillna(test[\"Sex\"].mode()[0])\n",
    "\n",
    "# 3) If you encoded Embarked earlier, ensure dummies & alignment remain valid\n",
    "if \"Embarked\" in train.columns:\n",
    "    train = pd.get_dummies(train, columns=[\"Embarked\"], drop_first=True)\n",
    "if \"Embarked\" in test.columns:\n",
    "    test  = pd.get_dummies(test,  columns=[\"Embarked\"], drop_first=True)\n",
    "\n",
    "train, test = train.align(test, join=\"left\", axis=1, fill_value=0)\n",
    "\n",
    "# 4) Rebuild X/y and the split\n",
    "cols_to_drop = [\"Survived\", \"Name\", \"Ticket\"]\n",
    "X = train.drop(columns=[c for c in cols_to_drop if c in train.columns])\n",
    "if \"PassengerId\" in X.columns:\n",
    "    X = X.drop(columns=[\"PassengerId\"])\n",
    "y = train[\"Survived\"]\n",
    "\n",
    "from sklearn.model_selection import train_test_split\n",
    "X_train, X_val, y_train, y_val = train_test_split(\n",
    "    X, y, test_size=0.2, random_state=42, stratify=y\n",
    ")\n",
    "\n",
    "print(X_train.shape, X_val.shape)\n",
    "\n",
    "# 5) Confirm no NaNs remain in the features you'll train on\n",
    "na_counts = X_train.isnull().sum()\n",
    "print(\"NaNs in X_train:\\n\", na_counts[na_counts > 0])\n"
   ]
  },
  {
   "cell_type": "code",
   "execution_count": 31,
   "id": "cfcfcd49",
   "metadata": {
    "execution": {
     "iopub.execute_input": "2025-10-20T13:53:25.389855Z",
     "iopub.status.busy": "2025-10-20T13:53:25.389516Z",
     "iopub.status.idle": "2025-10-20T13:53:25.397241Z",
     "shell.execute_reply": "2025-10-20T13:53:25.396447Z"
    },
    "papermill": {
     "duration": 0.020975,
     "end_time": "2025-10-20T13:53:25.398828",
     "exception": false,
     "start_time": "2025-10-20T13:53:25.377853",
     "status": "completed"
    },
    "tags": []
   },
   "outputs": [
    {
     "data": {
      "text/plain": [
       "(0, 0)"
      ]
     },
     "execution_count": 31,
     "metadata": {},
     "output_type": "execute_result"
    }
   ],
   "source": [
    "X_train.isnull().sum().sum(), X_val.isnull().sum().sum()\n"
   ]
  },
  {
   "cell_type": "code",
   "execution_count": 32,
   "id": "fdb17f47",
   "metadata": {
    "execution": {
     "iopub.execute_input": "2025-10-20T13:53:25.422711Z",
     "iopub.status.busy": "2025-10-20T13:53:25.421805Z",
     "iopub.status.idle": "2025-10-20T13:53:26.202454Z",
     "shell.execute_reply": "2025-10-20T13:53:26.199924Z"
    },
    "papermill": {
     "duration": 0.794385,
     "end_time": "2025-10-20T13:53:26.204487",
     "exception": false,
     "start_time": "2025-10-20T13:53:25.410102",
     "status": "completed"
    },
    "tags": []
   },
   "outputs": [
    {
     "name": "stdout",
     "output_type": "stream",
     "text": [
      "Validation accuracy: 0.8045\n",
      "\n",
      "Confusion matrix:\n",
      " [[98 12]\n",
      " [23 46]]\n",
      "\n",
      "Classification report:\n",
      "               precision    recall  f1-score   support\n",
      "\n",
      "           0      0.810     0.891     0.848       110\n",
      "           1      0.793     0.667     0.724        69\n",
      "\n",
      "    accuracy                          0.804       179\n",
      "   macro avg      0.802     0.779     0.786       179\n",
      "weighted avg      0.803     0.804     0.801       179\n",
      "\n"
     ]
    }
   ],
   "source": [
    "from sklearn.impute import SimpleImputer\n",
    "from sklearn.linear_model import LogisticRegression\n",
    "from sklearn.metrics import accuracy_score, confusion_matrix, classification_report\n",
    "\n",
    "imp = SimpleImputer(strategy=\"median\")\n",
    "X_train_imp = imp.fit_transform(X_train)\n",
    "X_val_imp   = imp.transform(X_val)\n",
    "\n",
    "logreg = LogisticRegression(max_iter=200)\n",
    "logreg.fit(X_train_imp, y_train)\n",
    "\n",
    "val_pred = logreg.predict(X_val_imp)\n",
    "print(\"Validation accuracy:\", round(accuracy_score(y_val, val_pred), 4))\n",
    "print(\"\\nConfusion matrix:\\n\", confusion_matrix(y_val, val_pred))\n",
    "print(\"\\nClassification report:\\n\", classification_report(y_val, val_pred, digits=3))\n"
   ]
  },
  {
   "cell_type": "code",
   "execution_count": 33,
   "id": "230fb930",
   "metadata": {
    "execution": {
     "iopub.execute_input": "2025-10-20T13:53:26.240784Z",
     "iopub.status.busy": "2025-10-20T13:53:26.240430Z",
     "iopub.status.idle": "2025-10-20T13:53:26.840255Z",
     "shell.execute_reply": "2025-10-20T13:53:26.839444Z"
    },
    "papermill": {
     "duration": 0.620136,
     "end_time": "2025-10-20T13:53:26.842045",
     "exception": false,
     "start_time": "2025-10-20T13:53:26.221909",
     "status": "completed"
    },
    "tags": []
   },
   "outputs": [],
   "source": [
    "# re-use the same SimpleImputer + LogisticRegression pattern\n",
    "\n",
    "from sklearn.impute import SimpleImputer\n",
    "from sklearn.linear_model import LogisticRegression\n",
    "\n",
    "# fit imputer on full train features (X), then transform both X and test\n",
    "imp_full = SimpleImputer(strategy=\"median\")\n",
    "X_full_imp = imp_full.fit_transform(X)\n",
    "X_test_imp = imp_full.transform(test[X.columns])  # columns aligned earlier\n",
    "\n",
    "# fit model on full training data, then predict test\n",
    "logreg = LogisticRegression(max_iter=200)\n",
    "logreg.fit(X_full_imp, y)\n",
    "test_pred = logreg.predict(X_test_imp)\n"
   ]
  },
  {
   "cell_type": "code",
   "execution_count": 34,
   "id": "5b9fd000",
   "metadata": {
    "execution": {
     "iopub.execute_input": "2025-10-20T13:53:26.881372Z",
     "iopub.status.busy": "2025-10-20T13:53:26.879694Z",
     "iopub.status.idle": "2025-10-20T13:53:26.901162Z",
     "shell.execute_reply": "2025-10-20T13:53:26.900373Z"
    },
    "papermill": {
     "duration": 0.04171,
     "end_time": "2025-10-20T13:53:26.903129",
     "exception": false,
     "start_time": "2025-10-20T13:53:26.861419",
     "status": "completed"
    },
    "tags": []
   },
   "outputs": [
    {
     "data": {
      "text/html": [
       "<div>\n",
       "<style scoped>\n",
       "    .dataframe tbody tr th:only-of-type {\n",
       "        vertical-align: middle;\n",
       "    }\n",
       "\n",
       "    .dataframe tbody tr th {\n",
       "        vertical-align: top;\n",
       "    }\n",
       "\n",
       "    .dataframe thead th {\n",
       "        text-align: right;\n",
       "    }\n",
       "</style>\n",
       "<table border=\"1\" class=\"dataframe\">\n",
       "  <thead>\n",
       "    <tr style=\"text-align: right;\">\n",
       "      <th></th>\n",
       "      <th>PassengerId</th>\n",
       "      <th>Survived</th>\n",
       "    </tr>\n",
       "  </thead>\n",
       "  <tbody>\n",
       "    <tr>\n",
       "      <th>0</th>\n",
       "      <td>892</td>\n",
       "      <td>0</td>\n",
       "    </tr>\n",
       "    <tr>\n",
       "      <th>1</th>\n",
       "      <td>893</td>\n",
       "      <td>0</td>\n",
       "    </tr>\n",
       "    <tr>\n",
       "      <th>2</th>\n",
       "      <td>894</td>\n",
       "      <td>0</td>\n",
       "    </tr>\n",
       "    <tr>\n",
       "      <th>3</th>\n",
       "      <td>895</td>\n",
       "      <td>0</td>\n",
       "    </tr>\n",
       "    <tr>\n",
       "      <th>4</th>\n",
       "      <td>896</td>\n",
       "      <td>1</td>\n",
       "    </tr>\n",
       "  </tbody>\n",
       "</table>\n",
       "</div>"
      ],
      "text/plain": [
       "   PassengerId  Survived\n",
       "0          892         0\n",
       "1          893         0\n",
       "2          894         0\n",
       "3          895         0\n",
       "4          896         1"
      ]
     },
     "execution_count": 34,
     "metadata": {},
     "output_type": "execute_result"
    }
   ],
   "source": [
    "submission = pd.DataFrame({\n",
    "    \"PassengerId\": test[\"PassengerId\"].astype(int),\n",
    "    \"Survived\": test_pred.astype(int)\n",
    "})\n",
    "submission.to_csv(\"submission.csv\", index=False)\n",
    "submission.head()\n"
   ]
  },
  {
   "cell_type": "markdown",
   "id": "48ee8d1e",
   "metadata": {
    "papermill": {
     "duration": 0.01635,
     "end_time": "2025-10-20T13:53:26.937696",
     "exception": false,
     "start_time": "2025-10-20T13:53:26.921346",
     "status": "completed"
    },
    "tags": []
   },
   "source": [
    "---\n",
    "\n",
    "### 📂 Project Links\n",
    "\n",
    "- 💻 [GitHub Repository](https://github.com/treasure-nweze/titanic-survival-analysis)\n",
    "- 🏆 [Kaggle Competition Page](https://www.kaggle.com/c/titanic)\n",
    "- 📈 [My Kaggle Submission (Score: 0.76555)](https://www.kaggle.com/code/your-kaggle-username/titanic-v1-baseline)\n"
   ]
  }
 ],
 "metadata": {
  "kaggle": {
   "accelerator": "none",
   "dataSources": [
    {
     "databundleVersionId": 26502,
     "sourceId": 3136,
     "sourceType": "competition"
    }
   ],
   "dockerImageVersionId": 31153,
   "isGpuEnabled": false,
   "isInternetEnabled": false,
   "language": "python",
   "sourceType": "notebook"
  },
  "kernelspec": {
   "display_name": "Python 3",
   "language": "python",
   "name": "python3"
  },
  "language_info": {
   "codemirror_mode": {
    "name": "ipython",
    "version": 3
   },
   "file_extension": ".py",
   "mimetype": "text/x-python",
   "name": "python",
   "nbconvert_exporter": "python",
   "pygments_lexer": "ipython3",
   "version": "3.11.13"
  },
  "papermill": {
   "default_parameters": {},
   "duration": 15.345554,
   "end_time": "2025-10-20T13:53:27.574669",
   "environment_variables": {},
   "exception": null,
   "input_path": "__notebook__.ipynb",
   "output_path": "__notebook__.ipynb",
   "parameters": {},
   "start_time": "2025-10-20T13:53:12.229115",
   "version": "2.6.0"
  }
 },
 "nbformat": 4,
 "nbformat_minor": 5
}
